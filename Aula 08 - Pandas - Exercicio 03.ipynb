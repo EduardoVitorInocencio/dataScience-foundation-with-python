{
 "cells": [
  {
   "cell_type": "markdown",
   "metadata": {},
   "source": [
    "### Exercício 03 – Manipulando dados com Pandas\n",
    "\n",
    "a) Crie um programa em pandas para ler o arquivo em Excel vendas.xlsx e\n",
    "\n",
    "b) Coloque em um dataframe.\n",
    "\n",
    "c) Visualize o cabeçalho dos dados;\n"
   ]
  },
  {
   "cell_type": "code",
   "execution_count": 1,
   "metadata": {},
   "outputs": [
    {
     "data": {
      "text/html": [
       "<div>\n",
       "<style scoped>\n",
       "    .dataframe tbody tr th:only-of-type {\n",
       "        vertical-align: middle;\n",
       "    }\n",
       "\n",
       "    .dataframe tbody tr th {\n",
       "        vertical-align: top;\n",
       "    }\n",
       "\n",
       "    .dataframe thead th {\n",
       "        text-align: right;\n",
       "    }\n",
       "</style>\n",
       "<table border=\"1\" class=\"dataframe\">\n",
       "  <thead>\n",
       "    <tr style=\"text-align: right;\">\n",
       "      <th></th>\n",
       "      <th>Coluna 1</th>\n",
       "      <th>Coluna 2</th>\n",
       "      <th>Coluna 3</th>\n",
       "      <th>Coluna 4</th>\n",
       "      <th>Coluna 5</th>\n",
       "      <th>Coluna 6</th>\n",
       "    </tr>\n",
       "  </thead>\n",
       "  <tbody>\n",
       "    <tr>\n",
       "      <th>0</th>\n",
       "      <td>2014-01-01</td>\n",
       "      <td>Bernardo de Sousa</td>\n",
       "      <td>Supervisor de Vendas Pl</td>\n",
       "      <td>ACME</td>\n",
       "      <td>AL</td>\n",
       "      <td>3276.20</td>\n",
       "    </tr>\n",
       "    <tr>\n",
       "      <th>1</th>\n",
       "      <td>2014-01-01</td>\n",
       "      <td>Bernardo de Sousa</td>\n",
       "      <td>Supervisor de Vendas Pl</td>\n",
       "      <td>ACME</td>\n",
       "      <td>AP</td>\n",
       "      <td>3005.86</td>\n",
       "    </tr>\n",
       "    <tr>\n",
       "      <th>2</th>\n",
       "      <td>2014-01-01</td>\n",
       "      <td>Bernardo de Sousa</td>\n",
       "      <td>Supervisor de Vendas Pl</td>\n",
       "      <td>ACME</td>\n",
       "      <td>MA</td>\n",
       "      <td>8568.54</td>\n",
       "    </tr>\n",
       "    <tr>\n",
       "      <th>3</th>\n",
       "      <td>2014-01-01</td>\n",
       "      <td>Bernardo de Sousa</td>\n",
       "      <td>Supervisor de Vendas Pl</td>\n",
       "      <td>ACME</td>\n",
       "      <td>MG</td>\n",
       "      <td>1344.27</td>\n",
       "    </tr>\n",
       "    <tr>\n",
       "      <th>4</th>\n",
       "      <td>2014-01-01</td>\n",
       "      <td>Bernardo de Sousa</td>\n",
       "      <td>Supervisor de Vendas Pl</td>\n",
       "      <td>ACME</td>\n",
       "      <td>MS</td>\n",
       "      <td>7585.04</td>\n",
       "    </tr>\n",
       "  </tbody>\n",
       "</table>\n",
       "</div>"
      ],
      "text/plain": [
       "    Coluna 1           Coluna 2                 Coluna 3 Coluna 4 Coluna 5  \\\n",
       "0 2014-01-01  Bernardo de Sousa  Supervisor de Vendas Pl     ACME       AL   \n",
       "1 2014-01-01  Bernardo de Sousa  Supervisor de Vendas Pl     ACME       AP   \n",
       "2 2014-01-01  Bernardo de Sousa  Supervisor de Vendas Pl     ACME       MA   \n",
       "3 2014-01-01  Bernardo de Sousa  Supervisor de Vendas Pl     ACME       MG   \n",
       "4 2014-01-01  Bernardo de Sousa  Supervisor de Vendas Pl     ACME       MS   \n",
       "\n",
       "   Coluna 6  \n",
       "0   3276.20  \n",
       "1   3005.86  \n",
       "2   8568.54  \n",
       "3   1344.27  \n",
       "4   7585.04  "
      ]
     },
     "execution_count": 1,
     "metadata": {},
     "output_type": "execute_result"
    }
   ],
   "source": [
    "# Importar a biblioteca\n",
    "import pandas as pd\n",
    "\n",
    "# Mapear o diretório e o arquivo\n",
    "\n",
    "caminho = 'C:\\\\Users\\\\Aluno\\\\Documents\\\\Eduardo-Inocencio-Python\\\\Arquivos\\\\'\n",
    "arquivo = 'Vendas.xlsx'\n",
    "\n",
    "# Atribuir os dados a um dataframe\n",
    "\n",
    "df = pd.read_excel(caminho + arquivo, sheet_name='Planilha1')\n",
    "\n",
    "# Visualizar os cabeçalhos\n",
    "\n",
    "df.head()"
   ]
  },
  {
   "cell_type": "markdown",
   "metadata": {},
   "source": [
    "d) Visualize as últimas linhas;\n"
   ]
  },
  {
   "cell_type": "code",
   "execution_count": 2,
   "metadata": {},
   "outputs": [
    {
     "data": {
      "text/html": [
       "<div>\n",
       "<style scoped>\n",
       "    .dataframe tbody tr th:only-of-type {\n",
       "        vertical-align: middle;\n",
       "    }\n",
       "\n",
       "    .dataframe tbody tr th {\n",
       "        vertical-align: top;\n",
       "    }\n",
       "\n",
       "    .dataframe thead th {\n",
       "        text-align: right;\n",
       "    }\n",
       "</style>\n",
       "<table border=\"1\" class=\"dataframe\">\n",
       "  <thead>\n",
       "    <tr style=\"text-align: right;\">\n",
       "      <th></th>\n",
       "      <th>Coluna 1</th>\n",
       "      <th>Coluna 2</th>\n",
       "      <th>Coluna 3</th>\n",
       "      <th>Coluna 4</th>\n",
       "      <th>Coluna 5</th>\n",
       "      <th>Coluna 6</th>\n",
       "    </tr>\n",
       "  </thead>\n",
       "  <tbody>\n",
       "    <tr>\n",
       "      <th>130461</th>\n",
       "      <td>2016-12-31</td>\n",
       "      <td>Liz Azevedo Santos</td>\n",
       "      <td>Vendedor Pl.</td>\n",
       "      <td>Planet Express</td>\n",
       "      <td>PI</td>\n",
       "      <td>1829.39</td>\n",
       "    </tr>\n",
       "    <tr>\n",
       "      <th>130462</th>\n",
       "      <td>2016-12-31</td>\n",
       "      <td>Liz Azevedo Santos</td>\n",
       "      <td>Vendedor Pl.</td>\n",
       "      <td>Planet Express</td>\n",
       "      <td>PR</td>\n",
       "      <td>2378.48</td>\n",
       "    </tr>\n",
       "    <tr>\n",
       "      <th>130463</th>\n",
       "      <td>2016-12-31</td>\n",
       "      <td>Liz Azevedo Santos</td>\n",
       "      <td>Vendedor Pl.</td>\n",
       "      <td>Planet Express</td>\n",
       "      <td>RO</td>\n",
       "      <td>4488.47</td>\n",
       "    </tr>\n",
       "    <tr>\n",
       "      <th>130464</th>\n",
       "      <td>2016-12-31</td>\n",
       "      <td>Liz Azevedo Santos</td>\n",
       "      <td>Vendedor Pl.</td>\n",
       "      <td>Planet Express</td>\n",
       "      <td>RR</td>\n",
       "      <td>1543.66</td>\n",
       "    </tr>\n",
       "    <tr>\n",
       "      <th>130465</th>\n",
       "      <td>2016-12-31</td>\n",
       "      <td>Liz Azevedo Santos</td>\n",
       "      <td>Vendedor Pl.</td>\n",
       "      <td>Planet Express</td>\n",
       "      <td>SC</td>\n",
       "      <td>9820.71</td>\n",
       "    </tr>\n",
       "  </tbody>\n",
       "</table>\n",
       "</div>"
      ],
      "text/plain": [
       "         Coluna 1            Coluna 2      Coluna 3        Coluna 4 Coluna 5  \\\n",
       "130461 2016-12-31  Liz Azevedo Santos  Vendedor Pl.  Planet Express       PI   \n",
       "130462 2016-12-31  Liz Azevedo Santos  Vendedor Pl.  Planet Express       PR   \n",
       "130463 2016-12-31  Liz Azevedo Santos  Vendedor Pl.  Planet Express       RO   \n",
       "130464 2016-12-31  Liz Azevedo Santos  Vendedor Pl.  Planet Express       RR   \n",
       "130465 2016-12-31  Liz Azevedo Santos  Vendedor Pl.  Planet Express       SC   \n",
       "\n",
       "        Coluna 6  \n",
       "130461   1829.39  \n",
       "130462   2378.48  \n",
       "130463   4488.47  \n",
       "130464   1543.66  \n",
       "130465   9820.71  "
      ]
     },
     "execution_count": 2,
     "metadata": {},
     "output_type": "execute_result"
    }
   ],
   "source": [
    "# Visualizar as últimas linhas do dataframe\n",
    "\n",
    "df.tail()"
   ]
  },
  {
   "cell_type": "markdown",
   "metadata": {},
   "source": [
    "e) Escreva um programa para renomear o cabeçalho da tabela com os seguintes nomes:"
   ]
  },
  {
   "cell_type": "code",
   "execution_count": 3,
   "metadata": {},
   "outputs": [
    {
     "data": {
      "text/html": [
       "<div>\n",
       "<style scoped>\n",
       "    .dataframe tbody tr th:only-of-type {\n",
       "        vertical-align: middle;\n",
       "    }\n",
       "\n",
       "    .dataframe tbody tr th {\n",
       "        vertical-align: top;\n",
       "    }\n",
       "\n",
       "    .dataframe thead th {\n",
       "        text-align: right;\n",
       "    }\n",
       "</style>\n",
       "<table border=\"1\" class=\"dataframe\">\n",
       "  <thead>\n",
       "    <tr style=\"text-align: right;\">\n",
       "      <th></th>\n",
       "      <th>Data</th>\n",
       "      <th>Vendedor</th>\n",
       "      <th>Cargo</th>\n",
       "      <th>Clientes</th>\n",
       "      <th>UF</th>\n",
       "      <th>Vendas</th>\n",
       "    </tr>\n",
       "  </thead>\n",
       "  <tbody>\n",
       "    <tr>\n",
       "      <th>0</th>\n",
       "      <td>2014-01-01</td>\n",
       "      <td>Bernardo de Sousa</td>\n",
       "      <td>Supervisor de Vendas Pl</td>\n",
       "      <td>ACME</td>\n",
       "      <td>AL</td>\n",
       "      <td>3276.20</td>\n",
       "    </tr>\n",
       "    <tr>\n",
       "      <th>1</th>\n",
       "      <td>2014-01-01</td>\n",
       "      <td>Bernardo de Sousa</td>\n",
       "      <td>Supervisor de Vendas Pl</td>\n",
       "      <td>ACME</td>\n",
       "      <td>AP</td>\n",
       "      <td>3005.86</td>\n",
       "    </tr>\n",
       "    <tr>\n",
       "      <th>2</th>\n",
       "      <td>2014-01-01</td>\n",
       "      <td>Bernardo de Sousa</td>\n",
       "      <td>Supervisor de Vendas Pl</td>\n",
       "      <td>ACME</td>\n",
       "      <td>MA</td>\n",
       "      <td>8568.54</td>\n",
       "    </tr>\n",
       "    <tr>\n",
       "      <th>3</th>\n",
       "      <td>2014-01-01</td>\n",
       "      <td>Bernardo de Sousa</td>\n",
       "      <td>Supervisor de Vendas Pl</td>\n",
       "      <td>ACME</td>\n",
       "      <td>MG</td>\n",
       "      <td>1344.27</td>\n",
       "    </tr>\n",
       "    <tr>\n",
       "      <th>4</th>\n",
       "      <td>2014-01-01</td>\n",
       "      <td>Bernardo de Sousa</td>\n",
       "      <td>Supervisor de Vendas Pl</td>\n",
       "      <td>ACME</td>\n",
       "      <td>MS</td>\n",
       "      <td>7585.04</td>\n",
       "    </tr>\n",
       "  </tbody>\n",
       "</table>\n",
       "</div>"
      ],
      "text/plain": [
       "        Data           Vendedor                    Cargo Clientes  UF   Vendas\n",
       "0 2014-01-01  Bernardo de Sousa  Supervisor de Vendas Pl     ACME  AL  3276.20\n",
       "1 2014-01-01  Bernardo de Sousa  Supervisor de Vendas Pl     ACME  AP  3005.86\n",
       "2 2014-01-01  Bernardo de Sousa  Supervisor de Vendas Pl     ACME  MA  8568.54\n",
       "3 2014-01-01  Bernardo de Sousa  Supervisor de Vendas Pl     ACME  MG  1344.27\n",
       "4 2014-01-01  Bernardo de Sousa  Supervisor de Vendas Pl     ACME  MS  7585.04"
      ]
     },
     "execution_count": 3,
     "metadata": {},
     "output_type": "execute_result"
    }
   ],
   "source": [
    "df.columns = ['Data','Vendedor','Cargo','Clientes','UF','Vendas']\n",
    "df.head()"
   ]
  },
  {
   "cell_type": "markdown",
   "metadata": {},
   "source": [
    "f) Quais são os tipos de dados que temos no dataframe?"
   ]
  },
  {
   "cell_type": "code",
   "execution_count": 4,
   "metadata": {},
   "outputs": [
    {
     "name": "stdout",
     "output_type": "stream",
     "text": [
      "<class 'pandas.core.frame.DataFrame'>\n",
      "RangeIndex: 130466 entries, 0 to 130465\n",
      "Data columns (total 6 columns):\n",
      " #   Column    Non-Null Count   Dtype         \n",
      "---  ------    --------------   -----         \n",
      " 0   Data      130466 non-null  datetime64[ns]\n",
      " 1   Vendedor  130466 non-null  object        \n",
      " 2   Cargo     130466 non-null  object        \n",
      " 3   Clientes  130466 non-null  object        \n",
      " 4   UF        130466 non-null  object        \n",
      " 5   Vendas    130466 non-null  float64       \n",
      "dtypes: datetime64[ns](1), float64(1), object(4)\n",
      "memory usage: 6.0+ MB\n"
     ]
    }
   ],
   "source": [
    "df.info()"
   ]
  },
  {
   "cell_type": "markdown",
   "metadata": {},
   "source": [
    "h) Há valores faltantes ou nulos?\n"
   ]
  },
  {
   "cell_type": "code",
   "execution_count": 11,
   "metadata": {},
   "outputs": [
    {
     "data": {
      "text/plain": [
       "0"
      ]
     },
     "execution_count": 11,
     "metadata": {},
     "output_type": "execute_result"
    }
   ],
   "source": [
    "# identificar quais registros são nulos\n",
    "df['Vendas'].isnull()\n",
    "\n",
    "# quantificar os elementos nulos\n",
    "df['Vendas'].isnull().sum()"
   ]
  },
  {
   "cell_type": "markdown",
   "metadata": {},
   "source": [
    "i) Calcule a soma, média, máximo, mínimo e contagem da coluna Preço."
   ]
  },
  {
   "cell_type": "code",
   "execution_count": null,
   "metadata": {},
   "outputs": [],
   "source": [
    "print('O total da coluna Vendas é:', df['Vendas'].sum())\n",
    "\n",
    "print('A média da coluna Vendas é:', df['Vendas'].mean())\n",
    "\n",
    "print('O maior valor da coluna  Vendas é:', df['Vendas'].max())\n",
    "\n",
    "print('O menor valor da coluna  Vendas é:', df['Vendas'].min())"
   ]
  },
  {
   "cell_type": "markdown",
   "metadata": {},
   "source": [
    "j) Crie um programa para criar um dataframe para mostrar as vendas por cargo, e\n",
    "salvar um arquivo em csv para com o nome de cada cargo:\n"
   ]
  },
  {
   "cell_type": "markdown",
   "metadata": {},
   "source": [
    "###### Supervisor de Vendas PL"
   ]
  },
  {
   "cell_type": "code",
   "execution_count": 18,
   "metadata": {},
   "outputs": [],
   "source": [
    "# Filtrar as vendas de acordo com o cargo\n",
    "\n",
    "dados = df[df['Cargo'] == 'Supervisor de Vendas Pl']\n",
    "\n",
    "# Pasta para salvar o arquivo\n",
    "\n",
    "caminho = 'C:\\\\Users\\\\Aluno\\\\Documents\\\\Eduardo-Inocencio-Python\\\\Arquivos\\\\relatorios_por_cargo\\\\'\n",
    "arquivo = 'Supervisor de Vendas PL.csv'\n",
    "\n",
    "# Salvar o arquivo no diretório\n",
    "\n",
    "dados.to_csv(caminho + arquivo, encoding='ANSI')"
   ]
  },
  {
   "cell_type": "markdown",
   "metadata": {},
   "source": [
    "###### Gerente Regional Jr."
   ]
  },
  {
   "cell_type": "code",
   "execution_count": 19,
   "metadata": {},
   "outputs": [],
   "source": [
    "# Filtrar as vendas de acordo com o cargo\n",
    "\n",
    "dados = df[df['Cargo'] == 'Gerente Regional Jr.']\n",
    "\n",
    "# Pasta para salvar o arquivo\n",
    "\n",
    "caminho = 'C:\\\\Users\\\\Aluno\\\\Documents\\\\Eduardo-Inocencio-Python\\\\Arquivos\\\\relatorios_por_cargo\\\\'\n",
    "arquivo = 'Gerente Regional Jr.csv'\n",
    "\n",
    "# Salvar o arquivo no diretório\n",
    "\n",
    "dados.to_csv(caminho + arquivo, encoding='ANSI')"
   ]
  },
  {
   "cell_type": "markdown",
   "metadata": {},
   "source": [
    "###### Supervisor de Vendas Sr"
   ]
  },
  {
   "cell_type": "code",
   "execution_count": 20,
   "metadata": {},
   "outputs": [],
   "source": [
    "# Filtrar as vendas de acordo com o cargo\n",
    "\n",
    "dados = df[df['Cargo'] == 'Supervisor de Vendas Sr']\n",
    "\n",
    "# Pasta para salvar o arquivo\n",
    "\n",
    "caminho = 'C:\\\\Users\\\\Aluno\\\\Documents\\\\Eduardo-Inocencio-Python\\\\Arquivos\\\\relatorios_por_cargo\\\\'\n",
    "arquivo = 'Supervisor de Vendas Sr.csv'\n",
    "\n",
    "# Salvar o arquivo no diretório\n",
    "\n",
    "dados.to_csv(caminho + arquivo, encoding='ANSI')"
   ]
  },
  {
   "cell_type": "markdown",
   "metadata": {},
   "source": [
    "###### Coordenador de Vendas Pl."
   ]
  },
  {
   "cell_type": "code",
   "execution_count": 28,
   "metadata": {},
   "outputs": [],
   "source": [
    "# Filtrar as vendas de acordo com o cargo\n",
    "\n",
    "dados = df[df['Cargo'] == 'Coordenador de Vendas Pl.']\n",
    "\n",
    "# Pasta para salvar o arquivo\n",
    "\n",
    "caminho = 'C:\\\\Users\\\\Aluno\\\\Documents\\\\Eduardo-Inocencio-Python\\\\Arquivos\\\\relatorios_por_cargo\\\\'\n",
    "arquivo = 'Coordenador de Vendas Pl.csv'\n",
    "\n",
    "# Salvar o arquivo no diretório\n",
    "\n",
    "dados.to_csv(caminho + arquivo, encoding='ANSI')"
   ]
  },
  {
   "cell_type": "markdown",
   "metadata": {},
   "source": [
    "###### Vendedor Jr."
   ]
  },
  {
   "cell_type": "code",
   "execution_count": 27,
   "metadata": {},
   "outputs": [],
   "source": [
    "# Filtrar as vendas de acordo com o cargo\n",
    "\n",
    "dados = df[df['Cargo'] == 'Vendedor Jr.']\n",
    "\n",
    "# Pasta para salvar o arquivo\n",
    "\n",
    "caminho = 'C:\\\\Users\\\\Aluno\\\\Documents\\\\Eduardo-Inocencio-Python\\\\Arquivos\\\\relatorios_por_cargo\\\\'\n",
    "arquivo = 'Vendedor Jr.csv'\n",
    "\n",
    "# Salvar o arquivo no diretório\n",
    "\n",
    "dados.to_csv(caminho + arquivo, encoding='ANSI')"
   ]
  },
  {
   "cell_type": "markdown",
   "metadata": {},
   "source": [
    "###### Vendedor Sr."
   ]
  },
  {
   "cell_type": "code",
   "execution_count": 21,
   "metadata": {},
   "outputs": [],
   "source": [
    "# Filtrar as vendas de acordo com o cargo\n",
    "\n",
    "dados = df[df['Cargo'] == 'Vendedor Sr.']\n",
    "\n",
    "# Pasta para salvar o arquivo\n",
    "\n",
    "caminho = 'C:\\\\Users\\\\Aluno\\\\Documents\\\\Eduardo-Inocencio-Python\\\\Arquivos\\\\relatorios_por_cargo\\\\'\n",
    "arquivo = 'Vendedor Sr.csv'\n",
    "\n",
    "# Salvar o arquivo no diretório\n",
    "\n",
    "dados.to_csv(caminho + arquivo, encoding='ANSI')"
   ]
  },
  {
   "cell_type": "markdown",
   "metadata": {},
   "source": [
    "###### Vendedor Pl."
   ]
  },
  {
   "cell_type": "code",
   "execution_count": 22,
   "metadata": {},
   "outputs": [],
   "source": [
    "# Filtrar as vendas de acordo com o cargo\n",
    "\n",
    "dados = df[df['Cargo'] == 'Vendedor Pl.']\n",
    "\n",
    "# Pasta para salvar o arquivo\n",
    "\n",
    "caminho = 'C:\\\\Users\\\\Aluno\\\\Documents\\\\Eduardo-Inocencio-Python\\\\Arquivos\\\\relatorios_por_cargo\\\\'\n",
    "arquivo = 'Vendedor Pl.csv'\n",
    "\n",
    "# Salvar o arquivo no diretório\n",
    "\n",
    "dados.to_csv(caminho + arquivo, encoding='ANSI')"
   ]
  },
  {
   "cell_type": "markdown",
   "metadata": {},
   "source": [
    "###### Gerente Regional Pl."
   ]
  },
  {
   "cell_type": "code",
   "execution_count": 23,
   "metadata": {},
   "outputs": [],
   "source": [
    "# Filtrar as vendas de acordo com o cargo\n",
    "\n",
    "dados = df[df['Cargo'] == 'Gerente Regional Pl.']\n",
    "\n",
    "# Pasta para salvar o arquivo\n",
    "\n",
    "caminho = 'C:\\\\Users\\\\Aluno\\\\Documents\\\\Eduardo-Inocencio-Python\\\\Arquivos\\\\relatorios_por_cargo\\\\'\n",
    "arquivo = 'Gerente Regional Pl.csv'\n",
    "\n",
    "# Salvar o arquivo no diretório\n",
    "\n",
    "dados.to_csv(caminho + arquivo, encoding='ANSI')"
   ]
  },
  {
   "cell_type": "markdown",
   "metadata": {},
   "source": [
    "###### Coordenador de Vendas Sr."
   ]
  },
  {
   "cell_type": "code",
   "execution_count": 24,
   "metadata": {},
   "outputs": [],
   "source": [
    "# Filtrar as vendas de acordo com o cargo\n",
    "\n",
    "dados = df[df['Cargo'] == 'Coordenador de Vendas Pl.']\n",
    "\n",
    "# Pasta para salvar o arquivo\n",
    "\n",
    "caminho = 'C:\\\\Users\\\\Aluno\\\\Documents\\\\Eduardo-Inocencio-Python\\\\Arquivos\\\\relatorios_por_cargo\\\\'\n",
    "arquivo = 'Coordenador de Vendas Pl.csv'\n",
    "\n",
    "# Salvar o arquivo no diretório\n",
    "\n",
    "dados.to_csv(caminho + arquivo, encoding='ANSI')"
   ]
  },
  {
   "cell_type": "markdown",
   "metadata": {},
   "source": [
    "###### Coordenador de Vendas Jr."
   ]
  },
  {
   "cell_type": "code",
   "execution_count": 25,
   "metadata": {},
   "outputs": [],
   "source": [
    "# Filtrar as vendas de acordo com o cargo\n",
    "\n",
    "dados = df[df['Cargo'] == 'Coordenador de Vendas Jr.']\n",
    "\n",
    "# Pasta para salvar o arquivo\n",
    "\n",
    "caminho = 'C:\\\\Users\\\\Aluno\\\\Documents\\\\Eduardo-Inocencio-Python\\\\Arquivos\\\\relatorios_por_cargo\\\\'\n",
    "arquivo = 'Coordenador de Vendas Jr.csv'\n",
    "\n",
    "# Salvar o arquivo no diretório\n",
    "\n",
    "dados.to_csv(caminho + arquivo, encoding='ANSI')"
   ]
  },
  {
   "cell_type": "markdown",
   "metadata": {},
   "source": [
    "###### Supervisor de Vendas Jr."
   ]
  },
  {
   "cell_type": "code",
   "execution_count": 26,
   "metadata": {},
   "outputs": [],
   "source": [
    "# Filtrar as vendas de acordo com o cargo\n",
    "\n",
    "dados = df[df['Cargo'] == 'Supervisor de Vendas Jr.']\n",
    "\n",
    "# Pasta para salvar o arquivo\n",
    "\n",
    "caminho = 'C:\\\\Users\\\\Aluno\\\\Documents\\\\Eduardo-Inocencio-Python\\\\Arquivos\\\\relatorios_por_cargo\\\\'\n",
    "arquivo = 'Supervisor de Vendas Jr.csv'\n",
    "\n",
    "# Salvar o arquivo no diretório\n",
    "\n",
    "dados.to_csv(caminho + arquivo, encoding='ANSI')"
   ]
  },
  {
   "cell_type": "markdown",
   "metadata": {},
   "source": [
    "9. Crie um dataframe para cada coluna, contendo dados únicos."
   ]
  },
  {
   "cell_type": "code",
   "execution_count": 35,
   "metadata": {},
   "outputs": [
    {
     "data": {
      "text/plain": [
       "0        Supervisor de Vendas Pl\n",
       "11          Gerente Regional Jr.\n",
       "37       Supervisor de Vendas Sr\n",
       "48     Coordenador de Vendas Pl.\n",
       "98                  Vendedor Jr.\n",
       "162                 Vendedor Sr.\n",
       "174                 Vendedor Pl.\n",
       "186         Gerente Regional Pl.\n",
       "276    Coordenador de Vendas Sr.\n",
       "285    Coordenador de Vendas Jr.\n",
       "436     Supervisor de Vendas Jr.\n",
       "Name: Cargo, dtype: object"
      ]
     },
     "execution_count": 35,
     "metadata": {},
     "output_type": "execute_result"
    }
   ],
   "source": [
    "# Criar um dataframe apenas com a coluna Cargo\n",
    "dados_cargos = df['Cargo']\n",
    "\n",
    "# Contar quantos elementos existem antes de remover as duplicadas\n",
    "dados_cargos.count()\n",
    "\n",
    "# Criar um novo dataframe sem duplicadas\n",
    "dados_cargos = dados_cargos.drop_duplicates()\n",
    "\n",
    "# Contar quantos elementos ficaram após a remoção das duplicadas\n",
    "dados_cargos.count()\n",
    "\n",
    "dados_cargos\n"
   ]
  }
 ],
 "metadata": {
  "kernelspec": {
   "display_name": "Python 3",
   "language": "python",
   "name": "python3"
  },
  "language_info": {
   "codemirror_mode": {
    "name": "ipython",
    "version": 3
   },
   "file_extension": ".py",
   "mimetype": "text/x-python",
   "name": "python",
   "nbconvert_exporter": "python",
   "pygments_lexer": "ipython3",
   "version": "3.11.0"
  },
  "orig_nbformat": 4
 },
 "nbformat": 4,
 "nbformat_minor": 2
}
