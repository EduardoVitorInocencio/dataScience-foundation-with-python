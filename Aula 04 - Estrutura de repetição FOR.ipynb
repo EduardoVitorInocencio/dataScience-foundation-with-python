{
 "cells": [
  {
   "cell_type": "markdown",
   "metadata": {},
   "source": [
    "## Estrutura de repetição FOR"
   ]
  },
  {
   "cell_type": "code",
   "execution_count": 2,
   "metadata": {},
   "outputs": [
    {
     "name": "stdout",
     "output_type": "stream",
     "text": [
      "Abacaxi\n",
      "Laranja\n",
      "Goiaba\n",
      "Banana\n"
     ]
    }
   ],
   "source": [
    "frutas = ['Abacaxi','Laranja','Goiaba','Banana']\n",
    "\n",
    "for x in frutas:\n",
    "    print(x)"
   ]
  },
  {
   "cell_type": "markdown",
   "metadata": {},
   "source": [
    "# Exercício 01 \n",
    "Crie uma estrutura de repetição para imprimir valores de 0 a 10"
   ]
  },
  {
   "cell_type": "code",
   "execution_count": 5,
   "metadata": {},
   "outputs": [
    {
     "name": "stdout",
     "output_type": "stream",
     "text": [
      "0\n",
      "2\n",
      "4\n",
      "6\n",
      "8\n",
      "10\n",
      "12\n",
      "14\n",
      "16\n",
      "18\n",
      "20\n"
     ]
    }
   ],
   "source": [
    "# Criando uma lista com valores de 0 a 10.\n",
    "lista = [0,1,2,3,4,5,6,7,8,9,10]\n",
    "\n",
    "for i in lista:\n",
    "    print(i*2)"
   ]
  },
  {
   "cell_type": "markdown",
   "metadata": {},
   "source": [
    "### Exercício 12 \n",
    "Desenvolva um gerador de tabuada, capaz de gerar a tabuada de qualquer número inteiro entre 1 a 10. O usuário deve informar de qual numero ele deseja ver a tabuada. A saída deve ser conforme o exemplo abaixo:"
   ]
  },
  {
   "cell_type": "code",
   "execution_count": 10,
   "metadata": {},
   "outputs": [
    {
     "name": "stdout",
     "output_type": "stream",
     "text": [
      "TABUADA DO NÚMERO 8\n",
      "- 8 X 1 = 8\n",
      "- 8 X 2 = 16\n",
      "- 8 X 3 = 24\n",
      "- 8 X 4 = 32\n",
      "- 8 X 5 = 40\n",
      "- 8 X 6 = 48\n",
      "- 8 X 7 = 56\n",
      "- 8 X 8 = 64\n",
      "- 8 X 9 = 72\n",
      "- 8 X 10 = 80\n"
     ]
    }
   ],
   "source": [
    "multiplicadores = [1,2,3,4,5,6,7,8,9,10]\n",
    "\n",
    "i = int(input('Digite o número: '))\n",
    "\n",
    "print(f'TABUADA DO NÚMERO {i}')\n",
    "\n",
    "for num in multiplicadores:\n",
    "\n",
    "    print(f'- {i} X {num} = {num * i}')"
   ]
  },
  {
   "cell_type": "markdown",
   "metadata": {},
   "source": [
    "### Exercício 06 \n",
    "Faça um programa que imprima na tela os números de 1 a 20, um abaixo do outro. Depois modifique o programa para que ele mostre os números um ao lado do outro."
   ]
  },
  {
   "cell_type": "code",
   "execution_count": 12,
   "metadata": {},
   "outputs": [
    {
     "name": "stdout",
     "output_type": "stream",
     "text": [
      "1\n",
      "2\n",
      "3\n",
      "4\n",
      "5\n",
      "6\n",
      "7\n",
      "8\n",
      "9\n",
      "10\n",
      "11\n",
      "12\n",
      "13\n",
      "14\n",
      "15\n",
      "16\n",
      "17\n",
      "18\n",
      "19\n",
      "20\n"
     ]
    }
   ],
   "source": [
    "intervalo = range(1,21)\n",
    "\n",
    "# Exibir valores na vertical\n",
    "for num in intervalo:\n",
    "    print(num)"
   ]
  },
  {
   "cell_type": "code",
   "execution_count": 16,
   "metadata": {},
   "outputs": [
    {
     "name": "stdout",
     "output_type": "stream",
     "text": [
      "[1, 2, 3, 4, 5, 6, 7, 8, 9, 10, 11, 12, 13, 14, 15, 16, 17, 18, 19, 20]\n"
     ]
    }
   ],
   "source": [
    "intervalo = range(1,21)\n",
    "# Exibir valores na horizontal\n",
    "\n",
    "lista = [] # Lista vazia\n",
    "\n",
    "for num in intervalo:\n",
    "    \n",
    "    lista.append(num)\n",
    "\n",
    "print(lista)"
   ]
  },
  {
   "cell_type": "markdown",
   "metadata": {},
   "source": [
    "### Exercício 09 \n",
    "Faça um programa que imprima na tela apenas os números ímpares entre 1 e 50."
   ]
  },
  {
   "cell_type": "code",
   "execution_count": 18,
   "metadata": {},
   "outputs": [
    {
     "name": "stdout",
     "output_type": "stream",
     "text": [
      "1\n",
      "3\n",
      "5\n",
      "7\n",
      "9\n",
      "11\n",
      "13\n",
      "15\n",
      "17\n",
      "19\n",
      "21\n",
      "23\n",
      "25\n",
      "27\n",
      "29\n",
      "31\n",
      "33\n",
      "35\n",
      "37\n",
      "39\n",
      "41\n",
      "43\n",
      "45\n",
      "47\n",
      "49\n"
     ]
    }
   ],
   "source": [
    "numeros = range(1,51)\n",
    "\n",
    "for num in numeros:\n",
    "# Verificar se o numero é ímpar\n",
    "    if num % 2 != 0:\n",
    "        print(num)"
   ]
  },
  {
   "cell_type": "markdown",
   "metadata": {},
   "source": [
    "### Exercício 10\n",
    "Faça um programa que receba dois números inteiros e gere os números inteiros que estão no intervalo compreendido por eles."
   ]
  },
  {
   "cell_type": "code",
   "execution_count": 21,
   "metadata": {},
   "outputs": [
    {
     "name": "stdout",
     "output_type": "stream",
     "text": [
      "10\n",
      "11\n",
      "12\n",
      "13\n",
      "14\n",
      "15\n",
      "16\n",
      "17\n",
      "18\n",
      "19\n",
      "20\n",
      "21\n",
      "22\n",
      "23\n",
      "24\n",
      "25\n",
      "26\n",
      "27\n",
      "28\n",
      "29\n",
      "30\n",
      "31\n",
      "32\n",
      "33\n",
      "34\n",
      "35\n",
      "36\n",
      "37\n",
      "38\n",
      "39\n",
      "40\n",
      "41\n",
      "42\n",
      "43\n",
      "44\n",
      "45\n",
      "46\n",
      "47\n",
      "48\n",
      "49\n",
      "50\n"
     ]
    }
   ],
   "source": [
    "# Solicita os números\n",
    "inferior = int(input('Digite o número inicial: '))\n",
    "superior = int(input('Digite o número final: '))\n",
    "\n",
    "# Garantir que o número inferior não seja maior do que o superior\n",
    "\n",
    "if inferior > superior:\n",
    "    inferior, superior = superior, inferior\n",
    "\n",
    "# Gerar uma faixa de valores entre inferior e superior\n",
    "numeros = range(inferior, superior + 1)\n",
    "\n",
    "for num in numeros:\n",
    "    print(num)"
   ]
  }
 ],
 "metadata": {
  "kernelspec": {
   "display_name": "Python 3",
   "language": "python",
   "name": "python3"
  },
  "language_info": {
   "codemirror_mode": {
    "name": "ipython",
    "version": 3
   },
   "file_extension": ".py",
   "mimetype": "text/x-python",
   "name": "python",
   "nbconvert_exporter": "python",
   "pygments_lexer": "ipython3",
   "version": "3.11.0"
  },
  "orig_nbformat": 4
 },
 "nbformat": 4,
 "nbformat_minor": 2
}
