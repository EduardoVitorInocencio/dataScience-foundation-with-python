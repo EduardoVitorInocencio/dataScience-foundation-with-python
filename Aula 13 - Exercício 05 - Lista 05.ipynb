{
 "cells": [
  {
   "cell_type": "markdown",
   "metadata": {},
   "source": [
    "### Instalando a biblioteca OS\n",
    "\n",
    "documentação: https://docs.python.org/3/library/os.html"
   ]
  },
  {
   "cell_type": "code",
   "execution_count": 1,
   "metadata": {},
   "outputs": [
    {
     "name": "stderr",
     "output_type": "stream",
     "text": [
      "ERROR: Could not find a version that satisfies the requirement os (from versions: none)\n",
      "ERROR: No matching distribution found for os\n",
      "\n",
      "[notice] A new release of pip available: 22.3 -> 23.2.1\n",
      "[notice] To update, run: python.exe -m pip install --upgrade pip\n"
     ]
    }
   ],
   "source": [
    "!pip install os"
   ]
  },
  {
   "cell_type": "code",
   "execution_count": 5,
   "metadata": {},
   "outputs": [],
   "source": [
    "import pandas as pd # Manipular os dados\n",
    "import os           # Gerenciar arquivos no sistema operacional\n",
    "\n",
    "# Criar variável para armazenar o caminho do diretório com os arquivos\n",
    "dir_path = 'O:\\\\Curso Python- Big Data - Escola SENAI Suiço Brasileira\\\\Arquivos\\\\filiais\\\\'\n",
    "\n",
    "# Criar uma lista vazia para armazenar os caminhos completos\n",
    "res = []\n",
    "\n",
    "#\n",
    "for path in os.listdir(dir_path):\n",
    "    # Verificar se é um arquivo válido\n",
    "    if os.path.isfile(dir_path + path):\n",
    "        res.append(dir_path + path)\n",
    "\n",
    "# Criar um dataframe vazio\n",
    "file_combined = pd.DataFrame()\n",
    "\n",
    "# Estrutura para combinar os arquivos\n",
    "for file in res:\n",
    "    df1 = pd.read_excel(file)\n",
    "    file_combined = pd.concat([file_combined,df1])\n",
    "\n",
    "dir_final = 'O:\\\\Curso Python- Big Data - Escola SENAI Suiço Brasileira\\\\Arquivos\\\\'\n",
    "fileName = 'ArquivoCombinado.xlsx'\n",
    "\n",
    "file_combined.to_excel(dir_final + fileName)"
   ]
  }
 ],
 "metadata": {
  "kernelspec": {
   "display_name": "Python 3",
   "language": "python",
   "name": "python3"
  },
  "language_info": {
   "codemirror_mode": {
    "name": "ipython",
    "version": 3
   },
   "file_extension": ".py",
   "mimetype": "text/x-python",
   "name": "python",
   "nbconvert_exporter": "python",
   "pygments_lexer": "ipython3",
   "version": "3.11.0"
  },
  "orig_nbformat": 4
 },
 "nbformat": 4,
 "nbformat_minor": 2
}
