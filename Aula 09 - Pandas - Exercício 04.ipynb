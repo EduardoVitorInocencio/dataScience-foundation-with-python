{
 "cells": [
  {
   "cell_type": "markdown",
   "metadata": {},
   "source": [
    "### Exercício 04\n",
    "\n",
    "b) Com base na coluna Vendedor, construa um código que permita remover as\n",
    "duplicadas da coluna informada, e na sequência, filtre o dataframe e gere um\n",
    "relatório individual para cada vendedor. Para fazer isso, siga os procedimentos\n",
    "a seguir:\n",
    "\n",
    "\n",
    "1. Crie uma pasta chamada relatórios-vendedores;\n",
    "\n",
    "2. Importe a biblioteca Pandas;\n",
    "\n",
    "3. Declare uma variável chamada path para armazenar o caminho da\n",
    "pasta criada;\n",
    "\n",
    "4. Declare uma variável com o nome file para armazenar o nome doarquivo\n",
    "que será manipulado;\n",
    "\n",
    "5. Crie um dataframe chamado dados e utilize o comando pd.read_excel\n",
    "para acessar o arquivo.\n"
   ]
  },
  {
   "cell_type": "code",
   "execution_count": 2,
   "metadata": {},
   "outputs": [],
   "source": [
    "# Importar a biblioteca\n",
    "\n",
    "import pandas as pd\n",
    "\n",
    "# Declarar as variáveis para acessar o arquivo\n",
    "\n",
    "path = 'C:\\\\Users\\\\Aluno\\\\Documents\\\\Eduardo-Inocencio-Python\\\\Arquivos\\\\'\n",
    "file = 'dados-vendas.xlsx'\n",
    "\n",
    "# Acessar os dados do arquivo e colocar em um dataframe\n",
    "\n",
    "dados = pd.read_excel(path + file, sheet_name='Vendas')\n"
   ]
  },
  {
   "cell_type": "markdown",
   "metadata": {},
   "source": [
    "6. Visualize o cabeçalho do dataframe;"
   ]
  },
  {
   "cell_type": "code",
   "execution_count": 3,
   "metadata": {},
   "outputs": [
    {
     "data": {
      "text/html": [
       "<div>\n",
       "<style scoped>\n",
       "    .dataframe tbody tr th:only-of-type {\n",
       "        vertical-align: middle;\n",
       "    }\n",
       "\n",
       "    .dataframe tbody tr th {\n",
       "        vertical-align: top;\n",
       "    }\n",
       "\n",
       "    .dataframe thead th {\n",
       "        text-align: right;\n",
       "    }\n",
       "</style>\n",
       "<table border=\"1\" class=\"dataframe\">\n",
       "  <thead>\n",
       "    <tr style=\"text-align: right;\">\n",
       "      <th></th>\n",
       "      <th>ID-Produto</th>\n",
       "      <th>Produto</th>\n",
       "      <th>Categoria</th>\n",
       "      <th>Segmento</th>\n",
       "      <th>Fabricante</th>\n",
       "      <th>Loja</th>\n",
       "      <th>Cidade</th>\n",
       "      <th>Estado</th>\n",
       "      <th>Vendedor</th>\n",
       "      <th>ID-Vendedor</th>\n",
       "      <th>Data Venda</th>\n",
       "      <th>ValorVenda</th>\n",
       "    </tr>\n",
       "  </thead>\n",
       "  <tbody>\n",
       "    <tr>\n",
       "      <th>0</th>\n",
       "      <td>SKU-0000001</td>\n",
       "      <td>LG K10 TV Power</td>\n",
       "      <td>Celulares</td>\n",
       "      <td>Corporativo</td>\n",
       "      <td>LG</td>\n",
       "      <td>SP8821</td>\n",
       "      <td>São Paulo</td>\n",
       "      <td>São Paulo</td>\n",
       "      <td>Ana Teixeira</td>\n",
       "      <td>1009</td>\n",
       "      <td>2012-10-04</td>\n",
       "      <td>679.00</td>\n",
       "    </tr>\n",
       "    <tr>\n",
       "      <th>1</th>\n",
       "      <td>SKU-0000002</td>\n",
       "      <td>Geladeira Duplex</td>\n",
       "      <td>Eletrodomésticos</td>\n",
       "      <td>Doméstico</td>\n",
       "      <td>Brastemp</td>\n",
       "      <td>SP8821</td>\n",
       "      <td>São Paulo</td>\n",
       "      <td>São Paulo</td>\n",
       "      <td>Josias Silva</td>\n",
       "      <td>1006</td>\n",
       "      <td>2012-01-01</td>\n",
       "      <td>832.00</td>\n",
       "    </tr>\n",
       "    <tr>\n",
       "      <th>2</th>\n",
       "      <td>SKU-0000003</td>\n",
       "      <td>Lavadora 11 Kg</td>\n",
       "      <td>Eletrodomésticos</td>\n",
       "      <td>Doméstico</td>\n",
       "      <td>Brastemp</td>\n",
       "      <td>SP8821</td>\n",
       "      <td>São Paulo</td>\n",
       "      <td>São Paulo</td>\n",
       "      <td>Josias Silva</td>\n",
       "      <td>1006</td>\n",
       "      <td>2012-02-02</td>\n",
       "      <td>790.00</td>\n",
       "    </tr>\n",
       "    <tr>\n",
       "      <th>3</th>\n",
       "      <td>SKU-0000004</td>\n",
       "      <td>Lavadora 11 Kg</td>\n",
       "      <td>Eletrodomésticos</td>\n",
       "      <td>Doméstico</td>\n",
       "      <td>Brastemp</td>\n",
       "      <td>SP8821</td>\n",
       "      <td>São Paulo</td>\n",
       "      <td>São Paulo</td>\n",
       "      <td>Mateus Gonçalves</td>\n",
       "      <td>1003</td>\n",
       "      <td>2012-03-03</td>\n",
       "      <td>765.32</td>\n",
       "    </tr>\n",
       "    <tr>\n",
       "      <th>4</th>\n",
       "      <td>SKU-0000005</td>\n",
       "      <td>Lavadora 11 Kg</td>\n",
       "      <td>Eletrodomésticos</td>\n",
       "      <td>Doméstico</td>\n",
       "      <td>Electrolux</td>\n",
       "      <td>SP8821</td>\n",
       "      <td>São Paulo</td>\n",
       "      <td>São Paulo</td>\n",
       "      <td>Artur Moreira</td>\n",
       "      <td>1004</td>\n",
       "      <td>2012-04-04</td>\n",
       "      <td>459.89</td>\n",
       "    </tr>\n",
       "  </tbody>\n",
       "</table>\n",
       "</div>"
      ],
      "text/plain": [
       "    ID-Produto           Produto         Categoria     Segmento  Fabricante  \\\n",
       "0  SKU-0000001   LG K10 TV Power         Celulares  Corporativo          LG   \n",
       "1  SKU-0000002  Geladeira Duplex  Eletrodomésticos    Doméstico    Brastemp   \n",
       "2  SKU-0000003    Lavadora 11 Kg  Eletrodomésticos    Doméstico    Brastemp   \n",
       "3  SKU-0000004    Lavadora 11 Kg  Eletrodomésticos    Doméstico    Brastemp   \n",
       "4  SKU-0000005    Lavadora 11 Kg  Eletrodomésticos    Doméstico  Electrolux   \n",
       "\n",
       "     Loja     Cidade     Estado          Vendedor  ID-Vendedor Data Venda  \\\n",
       "0  SP8821  São Paulo  São Paulo      Ana Teixeira         1009 2012-10-04   \n",
       "1  SP8821  São Paulo  São Paulo      Josias Silva         1006 2012-01-01   \n",
       "2  SP8821  São Paulo  São Paulo      Josias Silva         1006 2012-02-02   \n",
       "3  SP8821  São Paulo  São Paulo  Mateus Gonçalves         1003 2012-03-03   \n",
       "4  SP8821  São Paulo  São Paulo     Artur Moreira         1004 2012-04-04   \n",
       "\n",
       "   ValorVenda  \n",
       "0      679.00  \n",
       "1      832.00  \n",
       "2      790.00  \n",
       "3      765.32  \n",
       "4      459.89  "
      ]
     },
     "execution_count": 3,
     "metadata": {},
     "output_type": "execute_result"
    }
   ],
   "source": [
    "dados.head()"
   ]
  },
  {
   "cell_type": "markdown",
   "metadata": {},
   "source": [
    "7) Crie um dataframe chamado df_vendedores, para atribuir valores a ele\n",
    "você deve selecionar apenas a coluna Vendedores e remover as\n",
    "duplicadas do mesmo. Confirme se realmente o comando removeu as\n",
    "duplicadas.\n",
    "\n",
    "Após isso, crie uma lista com o seguinte nome listaVendedores, essa\n",
    "lista deve receber os dados do dataframe df_vendedores. Para isso,\n",
    "você deve converter o dataframe em lista, utilize o comando\n",
    "dataframe.tolist()."
   ]
  },
  {
   "cell_type": "code",
   "execution_count": 11,
   "metadata": {},
   "outputs": [
    {
     "data": {
      "text/plain": [
       "['Ana Teixeira',\n",
       " 'Josias Silva',\n",
       " 'Mateus Gonçalves',\n",
       " 'Artur Moreira',\n",
       " 'Rodrigo Fagundes',\n",
       " 'Fernando Zambrini',\n",
       " 'André Pereira',\n",
       " 'Maria Fernandes',\n",
       " 'Aline Sutter']"
      ]
     },
     "execution_count": 11,
     "metadata": {},
     "output_type": "execute_result"
    }
   ],
   "source": [
    "# Seleciona apenas a coluna Vendedor e remove as duplicadas\n",
    "df_vendedores = dados['Vendedor'].drop_duplicates()\n",
    "\n",
    "# Converter o Pandas SERIES em uma lista\n",
    "lista_vendedores = df_vendedores.tolist()\n",
    "\n",
    "lista_vendedores"
   ]
  },
  {
   "cell_type": "markdown",
   "metadata": {},
   "source": [
    "8. Construa uma estrutura de repetição (FOR) para que a variável\n",
    "vendedor receba os nomes que estão na lista listaVendedores e filtre\n",
    "o dataframe dados, utilizando a coluna Vendedores para que gere um\n",
    "novo dataframe (df_final) para cada vendedor. Ainda na estrutura de\n",
    "repetição, você deve inserir uma linha de código para gerar um arquivo\n",
    "em Excel para cada vendedor, utilize o comando dataframe.to_excel."
   ]
  },
  {
   "cell_type": "code",
   "execution_count": 15,
   "metadata": {},
   "outputs": [],
   "source": [
    "# Estrutura para gerar os arquivos de forma automática\n",
    "\n",
    "for vendedores in lista_vendedores:\n",
    "\n",
    "    df_final = dados[dados['Vendedor'] == vendedores]\n",
    "    path_New = path + 'relatorio-vendedores\\\\'\n",
    "    # Salvar o arquivo na pasta\n",
    "    df_final.to_excel(path_New + vendedores + '.xlsx',index = False)"
   ]
  }
 ],
 "metadata": {
  "kernelspec": {
   "display_name": "Python 3",
   "language": "python",
   "name": "python3"
  },
  "language_info": {
   "codemirror_mode": {
    "name": "ipython",
    "version": 3
   },
   "file_extension": ".py",
   "mimetype": "text/x-python",
   "name": "python",
   "nbconvert_exporter": "python",
   "pygments_lexer": "ipython3",
   "version": "3.11.0"
  },
  "orig_nbformat": 4
 },
 "nbformat": 4,
 "nbformat_minor": 2
}
