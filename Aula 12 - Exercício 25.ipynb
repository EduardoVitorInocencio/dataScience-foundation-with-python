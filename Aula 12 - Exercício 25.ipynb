{
 "cells": [
  {
   "cell_type": "markdown",
   "metadata": {},
   "source": [
    "#### Exercício 25\n",
    "Histogramas para dados de produção\n",
    "\n",
    "A empresa TODOSUNIDOS recebeu um lote inicial de eixos para montagem de motores destinados a servomecanismos de aeronaves. Foi necessária uma verificação para identificar a capacidade de cada um de três fornecedores, visto que pretendia-se firmar um futuro contrato de parceria. Optou-se por utilizar histograma da distribuição dos diâmetros externos de uma amostra aleatória de 240 eixos, proveniente dos três fornecedores. O limite de especificação dos diâmetros é 5 ± 2 (cm)."
   ]
  },
  {
   "cell_type": "code",
   "execution_count": 4,
   "metadata": {},
   "outputs": [
    {
     "name": "stdout",
     "output_type": "stream",
     "text": [
      "<class 'pandas.core.frame.DataFrame'>\n",
      "RangeIndex: 240 entries, 0 to 239\n",
      "Data columns (total 2 columns):\n",
      " #   Column      Non-Null Count  Dtype  \n",
      "---  ------      --------------  -----  \n",
      " 0   diametro    240 non-null    float64\n",
      " 1   fornecedor  240 non-null    int64  \n",
      "dtypes: float64(1), int64(1)\n",
      "memory usage: 3.9 KB\n"
     ]
    }
   ],
   "source": [
    "# Importando as bibliotecas\n",
    "import pandas as pd\n",
    "import seaborn as sns\n",
    "import matplotlib.pyplot as plt\n",
    "\n",
    "# Mapeando o caminho do documento\n",
    "path = 'O:\\\\Curso Python- Big Data - Escola SENAI Suiço Brasileira\\\\Arquivos\\\\'\n",
    "file = 'eixos.xlsx'\n",
    "\n",
    "# Atribuindo o arquivo em um dataframe\n",
    "df = pd.read_excel(path + file)\n",
    "\n",
    "df.info()"
   ]
  },
  {
   "cell_type": "code",
   "execution_count": 11,
   "metadata": {},
   "outputs": [
    {
     "name": "stderr",
     "output_type": "stream",
     "text": [
      "c:\\Python311\\Lib\\site-packages\\seaborn\\_oldcore.py:1498: FutureWarning: is_categorical_dtype is deprecated and will be removed in a future version. Use isinstance(dtype, CategoricalDtype) instead\n",
      "  if pd.api.types.is_categorical_dtype(vector):\n",
      "c:\\Python311\\Lib\\site-packages\\seaborn\\_oldcore.py:1119: FutureWarning: use_inf_as_na option is deprecated and will be removed in a future version. Convert inf values to NaN before operating instead.\n",
      "  with pd.option_context('mode.use_inf_as_na', True):\n"
     ]
    },
    {
     "data": {
      "text/plain": [
       "<seaborn.axisgrid.FacetGrid at 0x1bfec6368d0>"
      ]
     },
     "execution_count": 11,
     "metadata": {},
     "output_type": "execute_result"
    },
    {
     "data": {
      "image/png": "[encoded data removed]",
      "text/plain": [
       "<Figure size 500x500 with 1 Axes>"
      ]
     },
     "metadata": {},
     "output_type": "display_data"
    }
   ],
   "source": [
    "# Dataframe Fornecedor 01\n",
    "fornecedor_1 = df[df['fornecedor']==1]\n",
    "fornecedor_2 = df[df['fornecedor']==2]\n",
    "\n",
    "sns.displot(x = fornecedor_1['diametro'])"
   ]
  }
 ],
 "metadata": {
  "kernelspec": {
   "display_name": "Python 3",
   "language": "python",
   "name": "python3"
  },
  "language_info": {
   "codemirror_mode": {
    "name": "ipython",
    "version": 3
   },
   "file_extension": ".py",
   "mimetype": "text/x-python",
   "name": "python",
   "nbconvert_exporter": "python",
   "pygments_lexer": "ipython3",
   "version": "3.11.0"
  },
  "orig_nbformat": 4
 },
 "nbformat": 4,
 "nbformat_minor": 2
}
