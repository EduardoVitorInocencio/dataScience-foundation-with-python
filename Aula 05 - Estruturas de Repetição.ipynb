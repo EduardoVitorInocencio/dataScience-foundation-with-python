{
 "cells": [
  {
   "cell_type": "markdown",
   "metadata": {},
   "source": [
    "### Exercício 01\n",
    "Escreva um programa que imprima todos os números pares de 1\n",
    "a 100. (FOR)"
   ]
  },
  {
   "cell_type": "code",
   "execution_count": 3,
   "metadata": {},
   "outputs": [
    {
     "name": "stdout",
     "output_type": "stream",
     "text": [
      "2\n",
      "4\n",
      "6\n",
      "8\n",
      "10\n",
      "12\n",
      "14\n",
      "16\n",
      "18\n",
      "20\n",
      "22\n",
      "24\n",
      "26\n",
      "28\n",
      "30\n",
      "32\n",
      "34\n",
      "36\n",
      "38\n",
      "40\n",
      "42\n",
      "44\n",
      "46\n",
      "48\n",
      "50\n",
      "52\n",
      "54\n",
      "56\n",
      "58\n",
      "60\n",
      "62\n",
      "64\n",
      "66\n",
      "68\n",
      "70\n",
      "72\n",
      "74\n",
      "76\n",
      "78\n",
      "80\n",
      "82\n",
      "84\n",
      "86\n",
      "88\n",
      "90\n",
      "92\n",
      "94\n",
      "96\n",
      "98\n",
      "100\n"
     ]
    }
   ],
   "source": [
    "numeros = range(1 , 101)  # Criando um intervalo de 1 a 100\n",
    "\n",
    "for num in numeros:\n",
    "    \n",
    "    if num % 2 == 0:\n",
    "        print(num)"
   ]
  },
  {
   "cell_type": "markdown",
   "metadata": {},
   "source": [
    "### Exercício 02\n",
    "Crie um programa que conte quantas vezes a letra 'a' aparece em\n",
    "uma frase inserida pelo usuário. (FOR e IF)"
   ]
  },
  {
   "cell_type": "code",
   "execution_count": 9,
   "metadata": {},
   "outputs": [
    {
     "name": "stdout",
     "output_type": "stream",
     "text": [
      "A frase contém 2 letras A.\n"
     ]
    }
   ],
   "source": [
    "frase = input('Digite algo aqui: ')\n",
    "\n",
    "#Converter todas as letras em minúsculo\n",
    "frase = frase.lower() \n",
    "\n",
    "contador = 0\n",
    "\n",
    "for letra in frase:\n",
    "    \n",
    "    if letra == 'a':\n",
    "        contador = contador + 1\n",
    "\n",
    "print(f'A frase contém {contador} letras A.')\n",
    "\n"
   ]
  },
  {
   "cell_type": "markdown",
   "metadata": {},
   "source": [
    "### Exercício 14\n",
    "Faça um programa que peça 10 números inteiros, calcule e mostre a\n",
    "quantidade de números pares e a quantidade de números ímpares."
   ]
  },
  {
   "cell_type": "code",
   "execution_count": 10,
   "metadata": {},
   "outputs": [
    {
     "name": "stdout",
     "output_type": "stream",
     "text": [
      "Neste conjunto de números, contém 5 números ímpares e 5 números pares.\n"
     ]
    }
   ],
   "source": [
    "# Lista vazia, responsável por armazenar os valores inseridos\n",
    "numeros = []\n",
    "\n",
    "# Variável de controle de repetição\n",
    "i = 1\n",
    "\n",
    "while i <= 10:\n",
    "    numero = int(input('Digite um número inteiro: '))\n",
    "    \n",
    "    #Adicionar o número digitado na lista números\n",
    "    numeros.append(numero)\n",
    "    i = i + 1\n",
    "\n",
    "# Contadores\n",
    "impar = 0\n",
    "par = 0\n",
    "\n",
    "for num in numeros:\n",
    "\n",
    "    if num % 2 != 0:\n",
    "        #IMPAR\n",
    "        impar += 1\n",
    "    else:\n",
    "        par += 1\n",
    "\n",
    "print(f'Neste conjunto de números, contém {impar} números ímpares e {par} números pares.')"
   ]
  },
  {
   "cell_type": "code",
   "execution_count": 12,
   "metadata": {},
   "outputs": [
    {
     "name": "stdout",
     "output_type": "stream",
     "text": [
      "[1, 2, 3, 4, 5, 6, 7, 8, 9, 10]\n"
     ]
    }
   ],
   "source": [
    "lista = [] #Lista vazia\n",
    "\n",
    "i = 1 # Variável de controle\n",
    "\n",
    "while i <= 10:\n",
    "    numero = int(input('Digite um número: '))\n",
    "    lista.append(numero)\n",
    "\n",
    "    i = i + 1\n",
    "print(lista)"
   ]
  },
  {
   "cell_type": "markdown",
   "metadata": {},
   "source": [
    "### Exercício 08\n",
    "Faça um programa que leia 5 números e informe a soma e a média dos\n",
    "números."
   ]
  },
  {
   "cell_type": "code",
   "execution_count": 15,
   "metadata": {},
   "outputs": [
    {
     "name": "stdout",
     "output_type": "stream",
     "text": [
      "A lista contém os seguintes números:  [5.0, 5.0, 5.0, 5.0, 5.0]\n",
      "A lista contém 5 números\n",
      "A soma dos valores é: 25.0\n"
     ]
    }
   ],
   "source": [
    "# Criar uma lista vazia para armazenar os valores\n",
    "lista_numeros = []\n",
    "\n",
    "# Variável de Controle de Repetição\n",
    "i = 0\n",
    "\n",
    "# Estrutura de repetição para solicitar 5 valores\n",
    "# e inserir na lista (lista_numeros)\n",
    "\n",
    "while i < 5:\n",
    "    # Solicitar a inserção de novos valores\n",
    "    numero = float(input('Digite um valor: '))\n",
    "\n",
    "    # Adicionar o número inserido, na lista criada\n",
    "    lista_numeros.append(numero)\n",
    "\n",
    "    i += 1 # Incremento de uma unidade na variável i\n",
    "\n",
    "print('A lista contém os seguintes números: ', lista_numeros)\n",
    "print(f'A lista contém {i} números')\n",
    "\n",
    "# Declarar a variável para armazenar a soma dos valores\n",
    "soma = 0\n",
    "\n",
    "for x in lista_numeros:\n",
    "    # Somar a variável soma com o valor da variável X\n",
    "    soma = soma + x\n",
    "\n",
    "# Inicializar a variável media\n",
    "media = 0\n",
    "# Calcular a média aritmética\n",
    "media = soma / i\n",
    "\n",
    "print('A soma dos valores é:', soma)\n",
    "print('A média dos valores é: ', media)"
   ]
  },
  {
   "cell_type": "markdown",
   "metadata": {},
   "source": [
    "### Exercício 17\n",
    "Faça um programa que calcule o fatorial de um número inteiro fornecido\n",
    "pelo usuário. Ex.: 5!=5.4.3.2.1=120"
   ]
  },
  {
   "cell_type": "code",
   "execution_count": 8,
   "metadata": {},
   "outputs": [
    {
     "name": "stdout",
     "output_type": "stream",
     "text": [
      "********* Cálculo Fatorial *********\n",
      "O fatorial do número 10 é igual a 3628800\n"
     ]
    }
   ],
   "source": [
    "print('********* Cálculo Fatorial *********')\n",
    "# Criando a variável para armazenar o valor\n",
    "i = int(input('Digite um número'))\n",
    "# Atribuindo o valor de entrada à variável fatorial\n",
    "fatorial = i\n",
    "\n",
    "result = i\n",
    "\n",
    "# Cálculo do fatorial do número digitado\n",
    "while i >= 1:\n",
    "# Decréscimo do valor inserido para multiplicar o valor digitado\n",
    "# pelo número anterior a ele\n",
    "    i = i - 1\n",
    "# Validar que o valor do fator i não seja igual a 0\n",
    "    if i != 0:\n",
    "        fatorial = fatorial * i\n",
    "\n",
    "print(f'O fatorial do número {result} é igual a {fatorial}')"
   ]
  },
  {
   "cell_type": "markdown",
   "metadata": {},
   "source": [
    "### Exercício 03\n",
    "Faça um programa que calcule a soma dos números de 1 a 100.\n",
    "(FOR)"
   ]
  },
  {
   "cell_type": "code",
   "execution_count": 9,
   "metadata": {},
   "outputs": [
    {
     "name": "stdout",
     "output_type": "stream",
     "text": [
      "A soma é:  5050\n"
     ]
    }
   ],
   "source": [
    "# Criar uma lista de valores de 0 a 100\n",
    "numeros = range(1,101)\n",
    "\n",
    "# Criar uma variável acumuladora\n",
    "soma = 0\n",
    "\n",
    "for num in numeros:\n",
    "    soma = soma + num\n",
    "\n",
    "print('A soma é: ', soma)"
   ]
  },
  {
   "cell_type": "markdown",
   "metadata": {},
   "source": [
    "### Exercício 04\n",
    "Crie um programa que solicite ao usuário que digite uma senha e continue pedindo até que a senha digitada seja igual a \"12345\". Quando a senha for correta, exiba uma mensagem de boas-vindas. (WHILE)"
   ]
  },
  {
   "cell_type": "code",
   "execution_count": 10,
   "metadata": {},
   "outputs": [
    {
     "name": "stdout",
     "output_type": "stream",
     "text": [
      "Seja bem-vindo!\n"
     ]
    }
   ],
   "source": [
    "senha = input('Digite uma senha')\n",
    "\n",
    "while senha != '12345':\n",
    "    senha = input('Digite uma senha')\n",
    "\n",
    "print('Seja bem-vindo!')"
   ]
  },
  {
   "cell_type": "markdown",
   "metadata": {},
   "source": []
  }
 ],
 "metadata": {
  "kernelspec": {
   "display_name": "Python 3",
   "language": "python",
   "name": "python3"
  },
  "language_info": {
   "codemirror_mode": {
    "name": "ipython",
    "version": 3
   },
   "file_extension": ".py",
   "mimetype": "text/x-python",
   "name": "python",
   "nbconvert_exporter": "python",
   "pygments_lexer": "ipython3",
   "version": "3.11.0"
  },
  "orig_nbformat": 4
 },
 "nbformat": 4,
 "nbformat_minor": 2
}
