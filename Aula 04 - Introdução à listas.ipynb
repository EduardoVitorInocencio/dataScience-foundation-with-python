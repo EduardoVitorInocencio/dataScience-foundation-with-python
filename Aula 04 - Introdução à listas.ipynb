{
 "cells": [
  {
   "cell_type": "markdown",
   "metadata": {},
   "source": [
    "## Trabalhando com Listas"
   ]
  },
  {
   "cell_type": "code",
   "execution_count": 4,
   "metadata": {},
   "outputs": [],
   "source": [
    "# Criando uma lista\n",
    "\n",
    "alunos = ['Amanda','Ana','Aurineide','Perclides']\n",
    "notas = [10,20,30,40]"
   ]
  },
  {
   "cell_type": "code",
   "execution_count": 5,
   "metadata": {},
   "outputs": [
    {
     "data": {
      "text/plain": [
       "'Aurineide'"
      ]
     },
     "execution_count": 5,
     "metadata": {},
     "output_type": "execute_result"
    }
   ],
   "source": [
    "# Retornar os elementos das listas\n",
    "\n",
    "alunos[2]"
   ]
  },
  {
   "cell_type": "code",
   "execution_count": null,
   "metadata": {},
   "outputs": [],
   "source": [
    "# Crie uma lista com nome de times\n",
    "\n",
    "times = ['Palmeiras','São Paulo','Coritiba','Santos']\n",
    "\n",
    "# Acessar o time que está na 3ª Posição.\n",
    "print('O time que está na 3ª posição é:', times[2])\n",
    "\n",
    "# Acessar o time que está na 4ª Posição.\n",
    "print('O time que está na 4ª posição é:', times[3])\n",
    "\n",
    "# Acessar o time que está na 1ª Posição.\n",
    "print('O time que está na 1ª posição é:', times[0])"
   ]
  },
  {
   "cell_type": "markdown",
   "metadata": {},
   "source": [
    "3. Crie uma lista com duas listas de 3 times de futebol, cada uma de uma divisão diferente."
   ]
  },
  {
   "cell_type": "code",
   "execution_count": 13,
   "metadata": {},
   "outputs": [
    {
     "name": "stdout",
     "output_type": "stream",
     "text": [
      "Os elementos da lista são:  [['Palmeiras', 'Santos', 'Coritiba', 'São Paulo'], ['Corinthians', 'São Caetano', 'Bahia', 'Sport']]\n",
      "Primeira lista:  ['Palmeiras', 'Santos', 'Coritiba', 'São Paulo']\n",
      "Segunda lista:  ['Corinthians', 'São Caetano', 'Bahia', 'Sport']\n",
      "O terceiro elemento da 1ª lista é:  Coritiba\n"
     ]
    }
   ],
   "source": [
    "# Criando listas em listas\n",
    "\n",
    "campeonato = [['Palmeiras','Santos','Coritiba','São Paulo'],\n",
    "              ['Corinthians','São Caetano','Bahia','Sport']\n",
    "              ]\n",
    "\n",
    "# Retornar todos os elementos da lista\n",
    "print('Os elementos da lista são: ', campeonato)\n",
    "\n",
    "# Retornar a primeira lista\n",
    "print('Primeira lista: ', campeonato[0])\n",
    "\n",
    "# Retornar a segunda lista\n",
    "print('Segunda lista: ', campeonato[1])\n",
    "\n",
    "# Retornar o terceiro elemento da primeira lista\n",
    "print('O terceiro elemento da 1ª lista é: ', campeonato[0][2])"
   ]
  },
  {
   "cell_type": "markdown",
   "metadata": {},
   "source": []
  }
 ],
 "metadata": {
  "kernelspec": {
   "display_name": "Python 3",
   "language": "python",
   "name": "python3"
  },
  "language_info": {
   "codemirror_mode": {
    "name": "ipython",
    "version": 3
   },
   "file_extension": ".py",
   "mimetype": "text/x-python",
   "name": "python",
   "nbconvert_exporter": "python",
   "pygments_lexer": "ipython3",
   "version": "3.11.0"
  },
  "orig_nbformat": 4
 },
 "nbformat": 4,
 "nbformat_minor": 2
}
